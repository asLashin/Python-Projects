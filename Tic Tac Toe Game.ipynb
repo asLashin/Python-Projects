{
 "cells": [
  {
   "cell_type": "markdown",
   "id": "b96d8f8d",
   "metadata": {},
   "source": [
    "**This project involves building a Tic Tac Toe game using Python without a graphical user interface (GUI). The game will be played on the command line, where the user will enter their moves as text inputs.** \n",
    "\n",
    "**The project will focus on implementing the game logic using Python's built-in data structures and control flow statements. The project will include designing the game board as a list of lists, implementing the game logic using if statements and loops, and creating a simple command-line interface using Python's input() function. The project will also involve testing and debugging the game to ensure that it functions correctly.**\n",
    "\n",
    "The game of Tic Tac Toe is played on a 3x3 grid. The players take turns placing their symbol (either X or O) on the grid, with the goal of getting three in a row. The game ends when either one player gets three in a row, or the grid is full without any player getting three in a row,\n",
    " resulting in a tie.\n",
    "\n",
    "Here's a step-by-step decomposition of the game logic:\n",
    "\n"
   ]
  },
  {
   "cell_type": "markdown",
   "id": "ed33ff0c",
   "metadata": {},
   "source": [
    "Design the game board as a 3x3 list of lists. Each element in the list represents a square on the board and is initially set to an empty string.\n",
    "\n"
   ]
  },
  {
   "cell_type": "code",
   "execution_count": 8,
   "id": "04aa3850",
   "metadata": {},
   "outputs": [
    {
     "name": "stdout",
     "output_type": "stream",
     "text": [
      "[['-', '-', '-'], ['-', '-', '-'], ['-', '-', '-']]\n"
     ]
    }
   ],
   "source": [
    "board = [['-' for _ in range(3)] for _ in range(3)]\n",
    "\n",
    "print(board)"
   ]
  },
  {
   "cell_type": "markdown",
   "id": "d7302cf4",
   "metadata": {},
   "source": [
    "Create a function to print the game board to the console. This function should take the game board as a parameter and use loops to iterate through the rows and columns of the board, printing each square in the appropriate location."
   ]
  },
  {
   "cell_type": "code",
   "execution_count": 6,
   "id": "7c2ed81c",
   "metadata": {},
   "outputs": [],
   "source": [
    "def print_board(board):\n",
    "    for i in board:\n",
    "        print(i)"
   ]
  },
  {
   "cell_type": "markdown",
   "id": "25548883",
   "metadata": {},
   "source": [
    "Create a function to handle player moves. This function should take the game board and the current player's symbol as parameters, prompt the player for their move (using input()), and update the game board with the player's symbol in the appropriate location.\n",
    "\n"
   ]
  },
  {
   "cell_type": "code",
   "execution_count": null,
   "id": "bdc92f2a",
   "metadata": {},
   "outputs": [],
   "source": [
    "def player_move(board, x, y, symbol):\n",
    "    if board[x][y] == '-':\n",
    "        board[x][y] = symbol\n",
    "        return True\n",
    "    else:\n",
    "        print(\"Invalid move. Try again.\")\n",
    "        return False\n"
   ]
  },
  {
   "cell_type": "markdown",
   "id": "d1736c36",
   "metadata": {},
   "source": [
    "Create a function to check for a win. This function should take the game board and the current player's symbol as parameters and check if any of the rows, columns, or diagonals of the board contain three of the player's symbols in a row.\n",
    "\n"
   ]
  },
  {
   "cell_type": "code",
   "execution_count": 2,
   "id": "5c109dc2",
   "metadata": {},
   "outputs": [],
   "source": [
    "def check_win(board, symbol):\n",
    "    # Check rows\n",
    "    for row in board:\n",
    "        if all(cell == symbol for cell in row):\n",
    "            return True\n",
    "\n",
    "    # Check columns\n",
    "    for col in range(3):\n",
    "        if all(board[row][col] == symbol for row in range(3)):\n",
    "            return True\n",
    "\n",
    "    # Check diagonals\n",
    "    if all(board[i][i] == symbol for i in range(3)) or \\\n",
    "       all(board[i][2-i] == symbol for i in range(3)):\n",
    "        return True\n",
    "\n",
    "    return False"
   ]
  },
  {
   "cell_type": "markdown",
   "id": "0b95cf5c",
   "metadata": {},
   "source": [
    "Create a function to check for a tie. This function should take the game board as a parameter and check if every square on the board has been filled.\n",
    "\n"
   ]
  },
  {
   "cell_type": "code",
   "execution_count": 3,
   "id": "5c7b01d7",
   "metadata": {},
   "outputs": [],
   "source": [
    "def check_tie(board):\n",
    "    return all(all(cell != '-' for cell in row) for row in board)\n"
   ]
  },
  {
   "cell_type": "markdown",
   "id": "d418baef",
   "metadata": {},
   "source": [
    "Create a main game loop that alternates between the two players. In each  iteration of the loop, print the current state of the game board, prompt the current player for their move, update the game board with the player's symbol, and check if the game has been won or tied. If the game has been won or tied, end the loop and print the appropriate message.\n",
    "\n",
    "Test the game by playing it and checking that it correctly handles player moves, checks for wins and ties, and prints the appropriate messages. Debug any issues that arise."
   ]
  },
  {
   "cell_type": "code",
   "execution_count": 7,
   "id": "c3bcc0cf",
   "metadata": {},
   "outputs": [
    {
     "name": "stdout",
     "output_type": "stream",
     "text": [
      "['-', '-', '-']\n",
      "['-', '-', '-']\n",
      "['-', '-', '-']\n",
      "Player X, enter row (0-2): 0\n",
      "Player X, enter column (0-2): 0\n",
      "['X', '-', '-']\n",
      "['-', '-', '-']\n",
      "['-', '-', '-']\n",
      "Player O, enter row (0-2): 1\n",
      "Player O, enter column (0-2): 1\n",
      "['X', '-', '-']\n",
      "['-', 'O', '-']\n",
      "['-', '-', '-']\n",
      "Player X, enter row (0-2): 0\n",
      "Player X, enter column (0-2): 1\n",
      "['X', 'X', '-']\n",
      "['-', 'O', '-']\n",
      "['-', '-', '-']\n",
      "Player O, enter row (0-2): 0\n",
      "Player O, enter column (0-2): 2\n",
      "['X', 'X', 'O']\n",
      "['-', 'O', '-']\n",
      "['-', '-', '-']\n",
      "Player X, enter row (0-2): 1\n",
      "Player X, enter column (0-2): 0\n",
      "['X', 'X', 'O']\n",
      "['X', 'O', '-']\n",
      "['-', '-', '-']\n",
      "Player O, enter row (0-2): 2\n",
      "Player O, enter column (0-2): 0\n",
      "['X', 'X', 'O']\n",
      "['X', 'O', '-']\n",
      "['O', '-', '-']\n",
      "Player O wins!\n"
     ]
    }
   ],
   "source": [
    "def main():\n",
    "    board = [['-' for _ in range(3)] for _ in range(3)]\n",
    "    current_player = 'X'\n",
    "\n",
    "    while True:\n",
    "        print_board(board)\n",
    "        row = int(input(f\"Player {current_player}, enter row (0-2): \"))\n",
    "        col = int(input(f\"Player {current_player}, enter column (0-2): \"))\n",
    "\n",
    "        if player_move(board, row, col, current_player):\n",
    "            if check_win(board, current_player):\n",
    "                print_board(board)\n",
    "                print(f\"Player {current_player} wins!\")\n",
    "                break\n",
    "            elif check_tie(board):\n",
    "                print_board(board)\n",
    "                print(\"It's a tie!\")\n",
    "                break\n",
    "\n",
    "            current_player = 'O' if current_player == 'X' else 'X'\n",
    "\n",
    "if __name__ == \"__main__\":\n",
    "    main()"
   ]
  },
  {
   "cell_type": "code",
   "execution_count": null,
   "id": "c13b0dd4",
   "metadata": {},
   "outputs": [],
   "source": []
  },
  {
   "cell_type": "code",
   "execution_count": null,
   "id": "4ab4e064",
   "metadata": {},
   "outputs": [],
   "source": []
  }
 ],
 "metadata": {
  "kernelspec": {
   "display_name": "Python 3 (ipykernel)",
   "language": "python",
   "name": "python3"
  },
  "language_info": {
   "codemirror_mode": {
    "name": "ipython",
    "version": 3
   },
   "file_extension": ".py",
   "mimetype": "text/x-python",
   "name": "python",
   "nbconvert_exporter": "python",
   "pygments_lexer": "ipython3",
   "version": "3.9.17"
  }
 },
 "nbformat": 4,
 "nbformat_minor": 5
}
